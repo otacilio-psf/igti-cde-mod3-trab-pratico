{
 "cells": [
  {
   "cell_type": "code",
   "execution_count": 1,
   "id": "53d59e3d-c9f6-4d9e-9770-56b91128211d",
   "metadata": {},
   "outputs": [],
   "source": [
    "from pyspark.sql import SparkSession\n",
    "from pyspark.sql.functions import *"
   ]
  },
  {
   "cell_type": "code",
   "execution_count": 2,
   "id": "db10a31f-61c7-4c48-a60a-e937eb98fbf5",
   "metadata": {},
   "outputs": [
    {
     "name": "stdout",
     "output_type": "stream",
     "text": [
      "======================= SparkSession Starting ========================\n"
     ]
    },
    {
     "name": "stderr",
     "output_type": "stream",
     "text": [
      "WARNING: An illegal reflective access operation has occurred\n",
      "WARNING: Illegal reflective access by org.apache.spark.unsafe.Platform (file:/opt/spark/jars/spark-unsafe_2.12-3.1.1.jar) to constructor java.nio.DirectByteBuffer(long,int)\n",
      "WARNING: Please consider reporting this to the maintainers of org.apache.spark.unsafe.Platform\n",
      "WARNING: Use --illegal-access=warn to enable warnings of further illegal reflective access operations\n",
      "WARNING: All illegal access operations will be denied in a future release\n",
      "21/11/02 21:40:40 WARN NativeCodeLoader: Unable to load native-hadoop library for your platform... using builtin-java classes where applicable\n",
      "Using Spark's default log4j profile: org/apache/spark/log4j-defaults.properties\n",
      "Setting default log level to \"WARN\".\n",
      "To adjust logging level use sc.setLogLevel(newLevel). For SparkR, use setLogLevel(newLevel).\n"
     ]
    }
   ],
   "source": [
    "print(\"======================= SparkSession Starting ========================\")\n",
    "spark = SparkSession.builder.appName(\"trab-pratico-de-igti\").getOrCreate()"
   ]
  },
  {
   "cell_type": "code",
   "execution_count": null,
   "metadata": {},
   "outputs": [],
   "source": [
    "sc = spark.sparkContext\n",
    "sc.setLogLevel(\"ERROR\")"
   ]
  },
  {
   "cell_type": "code",
   "execution_count": 3,
   "id": "c2c35671-bc9e-4e57-8ba7-aa95674d488d",
   "metadata": {},
   "outputs": [
    {
     "name": "stdout",
     "output_type": "stream",
     "text": [
      "============================== Read data =============================\n"
     ]
    }
   ],
   "source": [
    "print(\"============================== Read data =============================\")\n",
    "df_titles = spark.read.csv('data/title_basics.tsv', header=True, sep='\\t')\n",
    "df_ratings = spark.read.csv('data/title_ratings.tsv', header=True, sep='\\t')"
   ]
  },
  {
   "cell_type": "code",
   "execution_count": 4,
   "id": "42b91caa-4769-491b-a838-b3aac43813c3",
   "metadata": {},
   "outputs": [
    {
     "name": "stdout",
     "output_type": "stream",
     "text": [
      "root\n",
      " |-- tconst: string (nullable = true)\n",
      " |-- titleType: string (nullable = true)\n",
      " |-- primaryTitle: string (nullable = true)\n",
      " |-- originalTitle: string (nullable = true)\n",
      " |-- isAdult: string (nullable = true)\n",
      " |-- startYear: string (nullable = true)\n",
      " |-- endYear: string (nullable = true)\n",
      " |-- runtimeMinutes: string (nullable = true)\n",
      " |-- genres: string (nullable = true)\n",
      "\n",
      "+---------+---------+--------------------+--------------------+-------+---------+-------+--------------+--------------------+\n",
      "|   tconst|titleType|        primaryTitle|       originalTitle|isAdult|startYear|endYear|runtimeMinutes|              genres|\n",
      "+---------+---------+--------------------+--------------------+-------+---------+-------+--------------+--------------------+\n",
      "|tt0000001|    short|          Carmencita|          Carmencita|      0|     1894|     \\N|             1|   Documentary,Short|\n",
      "|tt0000002|    short|Le clown et ses c...|Le clown et ses c...|      0|     1892|     \\N|             5|     Animation,Short|\n",
      "|tt0000003|    short|      Pauvre Pierrot|      Pauvre Pierrot|      0|     1892|     \\N|             4|Animation,Comedy,...|\n",
      "|tt0000004|    short|         Un bon bock|         Un bon bock|      0|     1892|     \\N|            12|     Animation,Short|\n",
      "|tt0000005|    short|    Blacksmith Scene|    Blacksmith Scene|      0|     1893|     \\N|             1|        Comedy,Short|\n",
      "+---------+---------+--------------------+--------------------+-------+---------+-------+--------------+--------------------+\n",
      "only showing top 5 rows\n",
      "\n"
     ]
    }
   ],
   "source": [
    "print(\"========================== Investigate data ==========================\")\n",
    "\n",
    "df_titles.printSchema()\n",
    "df_titles.show(5)"
   ]
  },
  {
   "cell_type": "code",
   "execution_count": 5,
   "id": "3c387006-d090-41d5-ac6c-890459e50ad0",
   "metadata": {},
   "outputs": [
    {
     "name": "stdout",
     "output_type": "stream",
     "text": [
      "root\n",
      " |-- tconst: string (nullable = true)\n",
      " |-- averageRating: string (nullable = true)\n",
      " |-- numVotes: string (nullable = true)\n",
      "\n",
      "+---------+-------------+--------+\n",
      "|   tconst|averageRating|numVotes|\n",
      "+---------+-------------+--------+\n",
      "|tt0000001|          5.7|    1809|\n",
      "|tt0000002|          6.0|     233|\n",
      "|tt0000003|          6.5|    1560|\n",
      "|tt0000004|          6.1|     152|\n",
      "|tt0000005|          6.2|    2383|\n",
      "+---------+-------------+--------+\n",
      "only showing top 5 rows\n",
      "\n"
     ]
    }
   ],
   "source": [
    "df_ratings.printSchema()\n",
    "df_ratings.show(5)"
   ]
  },
  {
   "cell_type": "code",
   "execution_count": 6,
   "id": "29b86c08-4c9d-4226-8c69-0963dd59ba86",
   "metadata": {},
   "outputs": [
    {
     "name": "stderr",
     "output_type": "stream",
     "text": [
      "                                                                                \r"
     ]
    },
    {
     "name": "stdout",
     "output_type": "stream",
     "text": [
      "+------------+\n",
      "|   titleType|\n",
      "+------------+\n",
      "|    tvSeries|\n",
      "|tvMiniSeries|\n",
      "|     tvMovie|\n",
      "|     tvPilot|\n",
      "|   tvEpisode|\n",
      "|       movie|\n",
      "|   tvSpecial|\n",
      "|       video|\n",
      "|   videoGame|\n",
      "|     tvShort|\n",
      "|       short|\n",
      "| radioSeries|\n",
      "|radioEpisode|\n",
      "+------------+\n",
      "\n"
     ]
    }
   ],
   "source": [
    "df_titles.select('titleType').distinct().show()"
   ]
  },
  {
   "cell_type": "code",
   "execution_count": 7,
   "id": "bf64b945-db95-4210-86c1-abb4cab555ee",
   "metadata": {},
   "outputs": [
    {
     "name": "stderr",
     "output_type": "stream",
     "text": [
      "                                                                                \r"
     ]
    },
    {
     "data": {
      "text/plain": [
       "19987"
      ]
     },
     "execution_count": 7,
     "metadata": {},
     "output_type": "execute_result"
    }
   ],
   "source": [
    "print(\"Quantos filmes (incluindo os da televisão) foram lançados no ano de 2015?\")\n",
    "print(\n",
    "    df_titles\n",
    "    .filter(col('titleType').isin('tvMovie', 'movie'))\n",
    "    .filter(col('startYear')=='2015')\n",
    "    .count()\n",
    ")"
   ]
  },
  {
   "cell_type": "code",
   "execution_count": 8,
   "id": "a07b9d23-e8bf-4093-b1e2-eb830788cb1d",
   "metadata": {},
   "outputs": [
    {
     "name": "stderr",
     "output_type": "stream",
     "text": [
      "[Stage 16:===================================================>    (11 + 1) / 12]\r"
     ]
    },
    {
     "name": "stdout",
     "output_type": "stream",
     "text": [
      "+-----------+-------+\n",
      "|   unique_g|  count|\n",
      "+-----------+-------+\n",
      "|      Drama|2247995|\n",
      "|     Comedy|1653725|\n",
      "|      Short|1021850|\n",
      "|  Talk-Show| 900198|\n",
      "|Documentary| 764885|\n",
      "|    Romance| 724729|\n",
      "|         \\N| 643012|\n",
      "|     Family| 571470|\n",
      "|       News| 524662|\n",
      "| Reality-TV| 423455|\n",
      "|  Animation| 406284|\n",
      "|      Music| 394008|\n",
      "|      Crime| 351447|\n",
      "|     Action| 334580|\n",
      "|  Adventure| 324325|\n",
      "|  Game-Show| 252533|\n",
      "|      Adult| 242704|\n",
      "|      Sport| 178594|\n",
      "|    Fantasy| 174119|\n",
      "|    Mystery| 162448|\n",
      "+-----------+-------+\n",
      "only showing top 20 rows\n",
      "\n"
     ]
    },
    {
     "name": "stderr",
     "output_type": "stream",
     "text": [
      "                                                                                \r"
     ]
    }
   ],
   "source": [
    "print(\"Qual o gênero de títulos mais frequente?\")\n",
    "(\n",
    "    df_titles\n",
    "    .withColumn('genres', split(col('genres'),','))\n",
    "    .select('*', explode(col('genres')).alias('unique_g'))\n",
    "    .groupBy('unique_g').count()\n",
    "    .orderBy(col('count').desc())\n",
    "    .show()\n",
    ")"
   ]
  },
  {
   "cell_type": "code",
   "execution_count": 9,
   "id": "66e3fa61-1cc4-484d-a9fe-be3d9929d29d",
   "metadata": {},
   "outputs": [
    {
     "name": "stderr",
     "output_type": "stream",
     "text": [
      "[Stage 20:===============================================>     (181 + 12) / 200]\r"
     ]
    },
    {
     "name": "stdout",
     "output_type": "stream",
     "text": [
      "+-----------+------------------+\n",
      "|   unique_g|             media|\n",
      "+-----------+------------------+\n",
      "|    History| 7.353780102645086|\n",
      "|Documentary| 7.240198535554575|\n",
      "|  Biography|  7.17553191489362|\n",
      "|    Mystery| 7.170086406897942|\n",
      "|      Crime|7.1598428684859385|\n",
      "|  Adventure| 7.107629703351738|\n",
      "|    Fantasy| 7.095145650845386|\n",
      "|  Animation| 7.089381171483224|\n",
      "|    Western| 7.080683426568711|\n",
      "|     Family|  7.07005492603448|\n",
      "|      Drama| 7.040979155040203|\n",
      "|        War|7.0091151344149205|\n",
      "|     Action|7.0070981387478835|\n",
      "|      Sport| 6.966792418526429|\n",
      "|     Comedy|6.9600165509184135|\n",
      "|      Music| 6.927469624015715|\n",
      "| Reality-TV| 6.892611170895967|\n",
      "|  Game-Show| 6.876828101904185|\n",
      "|    Romance| 6.864016164703973|\n",
      "|      Short| 6.791292438368555|\n",
      "+-----------+------------------+\n",
      "only showing top 20 rows\n",
      "\n"
     ]
    },
    {
     "name": "stderr",
     "output_type": "stream",
     "text": [
      "                                                                                \r"
     ]
    }
   ],
   "source": [
    "print(\"Qual o gênero com a melhor nota média de títulos?\")\n",
    "\n",
    "(\n",
    "    df_titles\n",
    "    .join(df_ratings, 'tconst')\n",
    "    .withColumn('genres', split(col('genres'),','))\n",
    "    .select('*', explode(col('genres')).alias('unique_g'))\n",
    "    .groupBy('unique_g').agg(mean(col('averageRating')).alias('media'))\n",
    "    .orderBy(col('media').desc())\n",
    "    .show()\n",
    ")"
   ]
  },
  {
   "cell_type": "code",
   "execution_count": 10,
   "id": "cfb4c80e-ebe6-4668-83d0-c5031d9bb2dc",
   "metadata": {},
   "outputs": [
    {
     "name": "stderr",
     "output_type": "stream",
     "text": [
      "[Stage 23:>                                                         (0 + 5) / 5]\r"
     ]
    },
    {
     "name": "stdout",
     "output_type": "stream",
     "text": [
      "+----------+---------+--------------------+--------------------+-------+---------+-------+--------------+--------------------+-------------+--------+---------+\n",
      "|    tconst|titleType|        primaryTitle|       originalTitle|isAdult|startYear|endYear|runtimeMinutes|              genres|averageRating|numVotes| unique_g|\n",
      "+----------+---------+--------------------+--------------------+-------+---------+-------+--------------+--------------------+-------------+--------+---------+\n",
      "|tt11321196|videoGame|     Half-Life: Alyx|     Half-Life: Alyx|      0|     2020|     \\N|            \\N|[Action, Adventur...|          9.5|     506|Adventure|\n",
      "| tt7651352|videoGame|   Ghost of Tsushima|   Ghost of Tsushima|      0|     2020|     \\N|            \\N|[Action, Adventur...|          9.3|    5270|Adventure|\n",
      "|tt14106780|videoGame|               Omori|               Omori|      0|     2020|     \\N|            \\N|[Adventure, Drama...|          9.2|      79|Adventure|\n",
      "| tt8329350|videoGame|Ori and the Will ...|Ori and the Will ...|      0|     2020|     \\N|            \\N|[Adventure, Fantasy]|          9.1|     724|Adventure|\n",
      "| tt6057416|videoGame|Final Fantasy VII...|Final Fantasy VII...|      0|     2020|     \\N|            \\N|[Action, Adventur...|          9.1|    2749|Adventure|\n",
      "|tt13635622|videoGame|There Is No Game:...|There Is No Game:...|      0|     2020|     \\N|            \\N| [Adventure, Comedy]|          8.9|      39|Adventure|\n",
      "|tt10879724|videoGame|Mega Man Zero/ZX ...|Mega Man Zero/ZX ...|      0|     2020|     \\N|            \\N|[Action, Adventur...|          8.9|      11|Adventure|\n",
      "|tt12507852|videoGame|       Demon's Souls|       Demon's Souls|      0|     2020|     \\N|            \\N|[Action, Adventur...|          8.8|     439|Adventure|\n",
      "|tt11121754|videoGame|Yakuza: Like a Dr...|Ryu ga gotoku 7: ...|      0|     2020|     \\N|            \\N|[Action, Adventur...|          8.8|     279|Adventure|\n",
      "|tt10951016|videoGame|Xenoblade Chronic...|Xenoblade Chronic...|      0|     2020|     \\N|            \\N|[Action, Adventur...|          8.8|     128|Adventure|\n",
      "| tt8550890|videoGame|        Doom Eternal|        Doom Eternal|      0|     2020|     \\N|            \\N|[Action, Adventur...|          8.7|    2007|Adventure|\n",
      "|tt11191308|videoGame|   Pixel Ripped 1995|   Pixel Ripped 1995|      0|     2020|     \\N|           300|[Action, Adventur...|          8.7|      21|Adventure|\n",
      "|tt12753708|videoGame|    Astro's Playroom|    Astro's Playroom|      0|     2020|     \\N|            \\N|[Adventure, Anima...|          8.6|     580|Adventure|\n",
      "|tt12496734|videoGame|Spider-Man: Miles...|Spider-Man: Miles...|      0|     2020|     \\N|            \\N|[Action, Adventur...|          8.6|    2802|Adventure|\n",
      "|tt13671106|videoGame|               Haven|               Haven|      0|     2020|     \\N|            \\N|[Adventure, Roman...|          8.5|      30|Adventure|\n",
      "|tt12277458|videoGame|Call of Duty: Mod...|Call of Duty: Mod...|      0|     2020|     \\N|            \\N|[Action, Adventur...|          8.5|     489|Adventure|\n",
      "|tt13657086|videoGame|        Pumpkin Jack|        Pumpkin Jack|      0|     2020|     \\N|            \\N|[Action, Adventur...|          8.4|       7|Adventure|\n",
      "|tt12205748|videoGame|      Desperados III|      Desperados III|      0|     2020|     \\N|            \\N|[Adventure, Western]|          8.4|      93|Adventure|\n",
      "|tt10476972|videoGame|Animal Crossing: ...|Atsumare doubutsu...|      0|     2020|     \\N|            \\N|[Adventure, Fantasy]|          8.4|     658|Adventure|\n",
      "| tt6298000|videoGame|The Last of Us: P...|The Last of Us: P...|      0|     2020|     \\N|            \\N|[Action, Adventur...|          8.3|   24559|Adventure|\n",
      "+----------+---------+--------------------+--------------------+-------+---------+-------+--------------+--------------------+-------------+--------+---------+\n",
      "only showing top 20 rows\n",
      "\n"
     ]
    },
    {
     "name": "stderr",
     "output_type": "stream",
     "text": [
      "                                                                                \r"
     ]
    }
   ],
   "source": [
    "print(\"Qual o vídeo game do gênero aventura mais bem avaliado em 2020?\")\n",
    "(\n",
    "    df_titles\n",
    "    .filter(col('titleType')=='videoGame')\n",
    "    .filter(col('startYear')=='2020')\n",
    "    .join(df_ratings, 'tconst')\n",
    "    .withColumn('genres', split(col('genres'),','))\n",
    "    .select('*', explode(col('genres')).alias('unique_g'))\n",
    "    .filter(col('unique_g')=='Adventure')\n",
    "    .orderBy(col('averageRating').desc())\n",
    "    .show()\n",
    ")"
   ]
  },
  {
   "cell_type": "code",
   "execution_count": 11,
   "id": "10d3af28-678a-4a15-95fe-c694060a44e4",
   "metadata": {},
   "outputs": [
    {
     "name": "stderr",
     "output_type": "stream",
     "text": [
      "21/11/02 21:41:11 WARN WindowExec: No Partition Defined for Window operation! Moving all data to a single partition, this can cause serious performance degradation.\n",
      "[Stage 25:===================================================>    (11 + 1) / 12]\r"
     ]
    },
    {
     "name": "stdout",
     "output_type": "stream",
     "text": [
      "+--------+-----+------------------+\n",
      "|unique_g|count|           percent|\n",
      "+--------+-----+------------------+\n",
      "|  Comedy|78809|12.612244963279833|\n",
      "+--------+-----+------------------+\n",
      "\n"
     ]
    },
    {
     "name": "stderr",
     "output_type": "stream",
     "text": [
      "                                                                                \r"
     ]
    }
   ],
   "source": [
    "print(\"Qual o percentual de títulos do gênero comédia lançados em 2018 em relação ao total de títulos lançados nesse ano?\")\n",
    "print(\"ERRADO!!!!!\")\n",
    "from pyspark.sql.window import Window\n",
    "\n",
    "w = Window.partitionBy()\n",
    "\n",
    "(\n",
    "    df_titles\n",
    "    .filter(col('startYear')=='2018')\n",
    "    .withColumn('genres', split(col('genres'),','))\n",
    "    .select('*', explode(col('genres')).alias('unique_g'))\n",
    "    .groupBy('unique_g').count()\n",
    "    .withColumn('percent', (col('count')/sum(col('count')).over(w))*100)\n",
    "    .filter(col('unique_g')=='Comedy')\n",
    "    .show()\n",
    ")"
   ]
  },
  {
   "cell_type": "code",
   "execution_count": 12,
   "id": "4ad51610-c94b-4b94-9d37-322fbe98b14e",
   "metadata": {},
   "outputs": [
    {
     "name": "stderr",
     "output_type": "stream",
     "text": [
      "[Stage 28:>                                                       (0 + 12) / 12]\r"
     ]
    },
    {
     "name": "stdout",
     "output_type": "stream",
     "text": [
      "+-------------------------------------+\n",
      "|((sum(comedy) / count(comedy)) * 100)|\n",
      "+-------------------------------------+\n",
      "|                   19.592336989488967|\n",
      "+-------------------------------------+\n",
      "\n"
     ]
    },
    {
     "name": "stderr",
     "output_type": "stream",
     "text": [
      "                                                                                \r"
     ]
    }
   ],
   "source": [
    "print(\"Qual o percentual de títulos do gênero comédia lançados em 2018 em relação ao total de títulos lançados nesse ano?\")\n",
    "print(\"CORRETO!!!!\")\n",
    "(\n",
    "    df_titles\n",
    "    .filter(col('startYear')=='2018')\n",
    "    .withColumn('genres', split(col('genres'),','))\n",
    "    .withColumn('comedy', when(array_contains(col('genres'), 'Comedy'),1).otherwise(0))\n",
    "    .select((sum(col('comedy'))/count(col('comedy')))*100)\n",
    "    .show()\n",
    ")"
   ]
  },
  {
   "cell_type": "code",
   "execution_count": 13,
   "id": "5e1d3929-3ddb-4b05-a1aa-f53992dfe3f9",
   "metadata": {
    "tags": []
   },
   "outputs": [
    {
     "name": "stderr",
     "output_type": "stream",
     "text": [
      "[Stage 30:>                                                         (0 + 5) / 5]\r"
     ]
    },
    {
     "name": "stdout",
     "output_type": "stream",
     "text": [
      "+------------------+\n",
      "|     averageRating|\n",
      "+------------------+\n",
      "|24.899137999843724|\n",
      "+------------------+\n",
      "\n"
     ]
    },
    {
     "name": "stderr",
     "output_type": "stream",
     "text": [
      "                                                                                \r"
     ]
    }
   ],
   "source": [
    "print(\"\"\"\n",
    "Considere a definição de uma udf abaixo: \n",
    "\n",
    "def sqr_divide(value): \n",
    "\n",
    "    return (value**2)/2 \n",
    "\n",
    "sqr_divide_udf = udf(sqr_divide, IntegerType())\n",
    "\n",
    "A definição de sqr_divide_udf possui um problema. Depois de solucionar o problema, ao executar \n",
    "\"\"\")\n",
    "\n",
    "from pyspark.sql.types import DoubleType\n",
    "\n",
    "def sqr_d(v):\n",
    "    return (v**2)/2\n",
    "\n",
    "sqr_d_udf = udf(sqr_d, DoubleType())\n",
    "\n",
    "(\n",
    "    df_ratings\n",
    "    .withColumn('averageRating', col('averageRating').cast(DoubleType()))\n",
    "    .select(sqr_d_udf('averageRating').alias('averageRating'))\n",
    "    .agg(mean('averageRating').alias('averageRating'))\n",
    "    .show()\n",
    ")"
   ]
  },
  {
   "cell_type": "code",
   "execution_count": 14,
   "id": "2182f12c-3ee1-4b0e-ba72-8c9200b29f17",
   "metadata": {},
   "outputs": [
    {
     "name": "stdout",
     "output_type": "stream",
     "text": [
      "+---------+---------+--------------------+--------------------+-------+---------+-------+--------------+--------------------+\n",
      "|   tconst|titleType|        primaryTitle|       originalTitle|isAdult|startYear|endYear|runtimeMinutes|              genres|\n",
      "+---------+---------+--------------------+--------------------+-------+---------+-------+--------------+--------------------+\n",
      "|tt0000180|    short|  Le chemin de croix|  Le chemin de croix|      0|     1898|     \\N|            \\N|               Short|\n",
      "|tt0000185|    short|La crèche à Bethléem|La crèche à Bethléem|      0|     1898|     \\N|            \\N|               Short|\n",
      "|tt0000189|    short|             Dorotea|             Dorotea|      0|     1898|     \\N|            \\N|               Short|\n",
      "|tt0000191|    short|Déménagement à la...|Déménagement à la...|      0|     1898|     \\N|            \\N|               Short|\n",
      "|tt0000193|    short|L'entrée à Jérusalem|L'entrée à Jérusalem|      0|     1898|     \\N|            \\N|               Short|\n",
      "|tt0000195|    short| Les farces de Jocko| Les farces de Jocko|      0|     1898|     \\N|            \\N|        Comedy,Short|\n",
      "|tt0000200|    short|Gran corrida de t...|Gran corrida de t...|      0|     1898|     \\N|            \\N|Documentary,Short...|\n",
      "|tt0000201|    short|  Indian War Council|  Indian War Council|      0|     1898|     \\N|            \\N|          News,Short|\n",
      "|tt0000202|    short|Le jardin des oli...|Le jardin des oli...|      0|     1898|     \\N|            \\N|               Short|\n",
      "|tt0000203|    short|Je vous y prrrrends!|Je vous y prrrrends!|      0|     1898|     \\N|            \\N|               Short|\n",
      "|tt0000212|    short|Saida do Paquete ...|Saida do Paquete ...|      0|     1898|     \\N|            \\N|               Short|\n",
      "|tt0000216|    short|Visita de Doña Ma...|Visita de Doña Ma...|      0|     1898|     \\N|            \\N|          News,Short|\n",
      "|tt0000217|    short|     Waves and Spray|     Waves and Spray|      0|     1898|     \\N|            \\N|               Short|\n",
      "|tt0000220|    short|The Artist and th...|The Artist and th...|      0|     1901|     \\N|            \\N|       Romance,Short|\n",
      "|tt0000221|    short|Aspectos da Praia...|Aspectos da Praia...|      0|     1899|     \\N|            \\N|   Documentary,Short|\n",
      "|tt0000224|    short|         Battlefield|         Battlefield|      0|     1899|     \\N|            \\N|               Short|\n",
      "|tt0000226|    short|           Boat Race|           Boat Race|      0|     1899|     \\N|            \\N|               Short|\n",
      "|tt0000227|    short|Bombardment of Ma...|Bombardment of Ma...|      0|     1899|     \\N|            \\N|     Drama,Short,War|\n",
      "|tt0000232|    short|      Le chiffonnier|      Le chiffonnier|      0|     1899|     \\N|            \\N|        Comedy,Short|\n",
      "|tt0000236|    short|      Courte échelle|      Courte échelle|      0|     1899|     \\N|            \\N|               Short|\n",
      "+---------+---------+--------------------+--------------------+-------+---------+-------+--------------+--------------------+\n",
      "only showing top 20 rows\n",
      "\n"
     ]
    }
   ],
   "source": [
    "print(\"Deseja-se utilizar um join para retornar somente as linhas referentes a títulos que estão sem nota, isto é, não aparecem no df_ratings\")\n",
    "df_titles.join(df_ratings, 'tconst', 'anti').show()"
   ]
  },
  {
   "cell_type": "code",
   "execution_count": 15,
   "id": "3e0f956d-5052-4a98-b8df-68c23cd715db",
   "metadata": {},
   "outputs": [
    {
     "name": "stdout",
     "output_type": "stream",
     "text": [
      "============================== Finished ==============================\n"
     ]
    }
   ],
   "source": [
    "spark.stop()\n",
    "print(\"============================== Finished ==============================\")"
   ]
  }
 ],
 "metadata": {
  "kernelspec": {
   "display_name": "Python 3 (ipykernel)",
   "language": "python",
   "name": "python3"
  },
  "language_info": {
   "codemirror_mode": {
    "name": "ipython",
    "version": 3
   },
   "file_extension": ".py",
   "mimetype": "text/x-python",
   "name": "python",
   "nbconvert_exporter": "python",
   "pygments_lexer": "ipython3",
   "version": "3.9.2"
  }
 },
 "nbformat": 4,
 "nbformat_minor": 5
}
